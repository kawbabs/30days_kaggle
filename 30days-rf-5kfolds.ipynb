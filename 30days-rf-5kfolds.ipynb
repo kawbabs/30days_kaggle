{
 "cells": [
  {
   "cell_type": "code",
   "execution_count": 1,
   "id": "1a56b091",
   "metadata": {
    "_cell_guid": "b1076dfc-b9ad-4769-8c92-a6c4dae69d19",
    "_uuid": "8f2839f25d086af736a60e9eeb907d3b93b6e0e5",
    "execution": {
     "iopub.execute_input": "2021-08-24T19:03:34.684173Z",
     "iopub.status.busy": "2021-08-24T19:03:34.679122Z",
     "iopub.status.idle": "2021-08-24T19:03:34.689624Z",
     "shell.execute_reply": "2021-08-24T19:03:34.690172Z",
     "shell.execute_reply.started": "2021-08-24T18:37:27.971900Z"
    },
    "papermill": {
     "duration": 0.031091,
     "end_time": "2021-08-24T19:03:34.690492",
     "exception": false,
     "start_time": "2021-08-24T19:03:34.659401",
     "status": "completed"
    },
    "tags": []
   },
   "outputs": [
    {
     "name": "stdout",
     "output_type": "stream",
     "text": [
      "/kaggle/input/30-days-of-ml/sample_submission.csv\n",
      "/kaggle/input/30-days-of-ml/train.csv\n",
      "/kaggle/input/30-days-of-ml/test.csv\n"
     ]
    }
   ],
   "source": [
    "# This Python 3 environment comes with many helpful analytics libraries installed\n",
    "# It is defined by the kaggle/python Docker image: https://github.com/kaggle/docker-python\n",
    "# For example, here's several helpful packages to load\n",
    "\n",
    "import numpy as np # linear algebra\n",
    "import pandas as pd # data processing, CSV file I/O (e.g. pd.read_csv)\n",
    "\n",
    "# Input data files are available in the read-only \"../input/\" directory\n",
    "# For example, running this (by clicking run or pressing Shift+Enter) will list all files under the input directory\n",
    "\n",
    "import os\n",
    "for dirname, _, filenames in os.walk('/kaggle/input'):\n",
    "    for filename in filenames:\n",
    "        print(os.path.join(dirname, filename))\n",
    "\n",
    "# You can write up to 20GB to the current directory (/kaggle/working/) that gets preserved as output when you create a version using \"Save & Run All\" \n",
    "# You can also write temporary files to /kaggle/temp/, but they won't be saved outside of the current session"
   ]
  },
  {
   "cell_type": "code",
   "execution_count": 2,
   "id": "49740529",
   "metadata": {
    "execution": {
     "iopub.execute_input": "2021-08-24T19:03:34.715066Z",
     "iopub.status.busy": "2021-08-24T19:03:34.714462Z",
     "iopub.status.idle": "2021-08-24T19:03:35.852963Z",
     "shell.execute_reply": "2021-08-24T19:03:35.853466Z",
     "shell.execute_reply.started": "2021-08-24T18:38:02.484688Z"
    },
    "papermill": {
     "duration": 1.152911,
     "end_time": "2021-08-24T19:03:35.853643",
     "exception": false,
     "start_time": "2021-08-24T19:03:34.700732",
     "status": "completed"
    },
    "tags": []
   },
   "outputs": [],
   "source": [
    "from sklearn import model_selection\n",
    "from sklearn.preprocessing import OrdinalEncoder\n",
    "from sklearn.model_selection import train_test_split\n",
    "from sklearn.ensemble import RandomForestRegressor\n",
    "from sklearn.metrics import mean_squared_error"
   ]
  },
  {
   "cell_type": "code",
   "execution_count": 3,
   "id": "762c035c",
   "metadata": {
    "execution": {
     "iopub.execute_input": "2021-08-24T19:03:35.876012Z",
     "iopub.status.busy": "2021-08-24T19:03:35.875389Z",
     "iopub.status.idle": "2021-08-24T19:03:40.171107Z",
     "shell.execute_reply": "2021-08-24T19:03:40.170048Z",
     "shell.execute_reply.started": "2021-08-24T18:38:28.694657Z"
    },
    "papermill": {
     "duration": 4.307827,
     "end_time": "2021-08-24T19:03:40.171271",
     "exception": false,
     "start_time": "2021-08-24T19:03:35.863444",
     "status": "completed"
    },
    "tags": []
   },
   "outputs": [],
   "source": [
    "test = pd.read_csv('/kaggle/input/30-days-of-ml/test.csv')\n",
    "train= pd.read_csv('/kaggle/input/30-days-of-ml/train.csv')"
   ]
  },
  {
   "cell_type": "code",
   "execution_count": 4,
   "id": "f6586d86",
   "metadata": {
    "execution": {
     "iopub.execute_input": "2021-08-24T19:03:40.196402Z",
     "iopub.status.busy": "2021-08-24T19:03:40.195740Z",
     "iopub.status.idle": "2021-08-24T19:03:40.268634Z",
     "shell.execute_reply": "2021-08-24T19:03:40.269173Z",
     "shell.execute_reply.started": "2021-08-24T19:03:10.169799Z"
    },
    "papermill": {
     "duration": 0.088019,
     "end_time": "2021-08-24T19:03:40.269347",
     "exception": false,
     "start_time": "2021-08-24T19:03:40.181328",
     "status": "completed"
    },
    "tags": []
   },
   "outputs": [],
   "source": [
    "sample_submission = pd.read_csv(\"../input/30-days-of-ml/sample_submission.csv\")"
   ]
  },
  {
   "cell_type": "code",
   "execution_count": 5,
   "id": "c65bb42c",
   "metadata": {
    "execution": {
     "iopub.execute_input": "2021-08-24T19:03:40.297363Z",
     "iopub.status.busy": "2021-08-24T19:03:40.296714Z",
     "iopub.status.idle": "2021-08-24T19:03:40.353266Z",
     "shell.execute_reply": "2021-08-24T19:03:40.353767Z",
     "shell.execute_reply.started": "2021-08-24T18:38:43.330275Z"
    },
    "papermill": {
     "duration": 0.074935,
     "end_time": "2021-08-24T19:03:40.353947",
     "exception": false,
     "start_time": "2021-08-24T19:03:40.279012",
     "status": "completed"
    },
    "tags": []
   },
   "outputs": [],
   "source": [
    "# let's use kfold for cros validation \n",
    "\n",
    "kf = model_selection.KFold(n_splits = 5, shuffle = True , random_state = 5)\n",
    "for fold, (train_indices, valid_indices) in enumerate (kf.split(X = train)):\n",
    "    train.loc[valid_indices, 'kfold'] = fold"
   ]
  },
  {
   "cell_type": "code",
   "execution_count": 6,
   "id": "f6780978",
   "metadata": {
    "execution": {
     "iopub.execute_input": "2021-08-24T19:03:40.375892Z",
     "iopub.status.busy": "2021-08-24T19:03:40.375271Z",
     "iopub.status.idle": "2021-08-24T19:03:40.379342Z",
     "shell.execute_reply": "2021-08-24T19:03:40.379785Z",
     "shell.execute_reply.started": "2021-08-24T18:39:31.616314Z"
    },
    "papermill": {
     "duration": 0.016474,
     "end_time": "2021-08-24T19:03:40.379946",
     "exception": false,
     "start_time": "2021-08-24T19:03:40.363472",
     "status": "completed"
    },
    "tags": []
   },
   "outputs": [],
   "source": [
    "df_train = train"
   ]
  },
  {
   "cell_type": "code",
   "execution_count": 7,
   "id": "d9d4d7cb",
   "metadata": {
    "execution": {
     "iopub.execute_input": "2021-08-24T19:03:40.407966Z",
     "iopub.status.busy": "2021-08-24T19:03:40.406916Z",
     "iopub.status.idle": "2021-08-24T19:03:40.436256Z",
     "shell.execute_reply": "2021-08-24T19:03:40.435651Z",
     "shell.execute_reply.started": "2021-08-24T18:39:32.361323Z"
    },
    "papermill": {
     "duration": 0.046935,
     "end_time": "2021-08-24T19:03:40.436418",
     "exception": false,
     "start_time": "2021-08-24T19:03:40.389483",
     "status": "completed"
    },
    "tags": []
   },
   "outputs": [],
   "source": [
    "features = [c for c in df_train.columns if c not in ('id', 'kfold', 'target')]\n",
    "obj_cols = [col for col in features if 'cat' in col]\n",
    "test = test[features]"
   ]
  },
  {
   "cell_type": "code",
   "execution_count": 8,
   "id": "2f6ecc31",
   "metadata": {
    "execution": {
     "iopub.execute_input": "2021-08-24T19:03:40.465966Z",
     "iopub.status.busy": "2021-08-24T19:03:40.465041Z",
     "iopub.status.idle": "2021-08-24T19:26:21.693180Z",
     "shell.execute_reply": "2021-08-24T19:26:21.693783Z",
     "shell.execute_reply.started": "2021-08-24T18:40:08.537415Z"
    },
    "papermill": {
     "duration": 1361.24792,
     "end_time": "2021-08-24T19:26:21.694046",
     "exception": false,
     "start_time": "2021-08-24T19:03:40.446126",
     "status": "completed"
    },
    "tags": []
   },
   "outputs": [
    {
     "name": "stdout",
     "output_type": "stream",
     "text": [
      "encoding\n",
      "training\n",
      "0 0.7348066097782634\n",
      "encoding\n",
      "training\n",
      "1 0.7358421244502356\n",
      "encoding\n",
      "training\n",
      "2 0.7370368869620207\n",
      "encoding\n",
      "training\n",
      "3 0.7327045732923444\n",
      "encoding\n",
      "training\n",
      "4 0.7377941054771865\n"
     ]
    }
   ],
   "source": [
    "final_pred = []\n",
    "for fold in range(5):\n",
    "    xtrain = df_train[df_train.kfold != fold].reset_index(drop =True)\n",
    "    xvalid = df_train[df_train.kfold == fold].reset_index(drop =True)\n",
    "    xtest = test.copy()\n",
    "    \n",
    "    ytrain = xtrain.target\n",
    "    yvalid = xvalid.target\n",
    "   \n",
    "    xtrain = xtrain[features]\n",
    "    xvalid = xvalid[features]\n",
    "    \n",
    "    print('encoding')\n",
    "    encoder = OrdinalEncoder()\n",
    "    xtrain[obj_cols] = encoder.fit_transform(xtrain[obj_cols])\n",
    "    xvalid[obj_cols] = encoder.fit_transform(xvalid[obj_cols])\n",
    "    xtest[obj_cols] = encoder.fit_transform(xtest[obj_cols])\n",
    "    \n",
    "    print('training')\n",
    "    model = RandomForestRegressor(random_state=fold, n_jobs = -1)\n",
    "    model.fit(xtrain, ytrain)\n",
    "    preds_valid = model.predict(xvalid)\n",
    "    test_pred = model.predict(xtest)\n",
    "    final_pred.append(test_pred)\n",
    "    print(fold, mean_squared_error(yvalid, preds_valid, squared=False))\n",
    "    "
   ]
  },
  {
   "cell_type": "code",
   "execution_count": 9,
   "id": "2f520500",
   "metadata": {
    "execution": {
     "iopub.execute_input": "2021-08-24T19:26:21.732328Z",
     "iopub.status.busy": "2021-08-24T19:26:21.731369Z",
     "iopub.status.idle": "2021-08-24T19:26:22.474885Z",
     "shell.execute_reply": "2021-08-24T19:26:22.474323Z",
     "shell.execute_reply.started": "2021-08-24T19:03:14.055915Z"
    },
    "papermill": {
     "duration": 0.767512,
     "end_time": "2021-08-24T19:26:22.475034",
     "exception": false,
     "start_time": "2021-08-24T19:26:21.707522",
     "status": "completed"
    },
    "tags": []
   },
   "outputs": [],
   "source": [
    "preds = np.mean(np.column_stack(final_pred), axis=1)\n",
    "sample_submission.target = preds\n",
    "sample_submission.to_csv(\"submission.csv\", index=False)"
   ]
  },
  {
   "cell_type": "code",
   "execution_count": null,
   "id": "8c222139",
   "metadata": {
    "papermill": {
     "duration": 0.012797,
     "end_time": "2021-08-24T19:26:22.501114",
     "exception": false,
     "start_time": "2021-08-24T19:26:22.488317",
     "status": "completed"
    },
    "tags": []
   },
   "outputs": [],
   "source": []
  }
 ],
 "metadata": {
  "kernelspec": {
   "display_name": "Python 3",
   "language": "python",
   "name": "python3"
  },
  "language_info": {
   "codemirror_mode": {
    "name": "ipython",
    "version": 3
   },
   "file_extension": ".py",
   "mimetype": "text/x-python",
   "name": "python",
   "nbconvert_exporter": "python",
   "pygments_lexer": "ipython3",
   "version": "3.7.10"
  },
  "papermill": {
   "default_parameters": {},
   "duration": 1377.138095,
   "end_time": "2021-08-24T19:26:23.849104",
   "environment_variables": {},
   "exception": null,
   "input_path": "__notebook__.ipynb",
   "output_path": "__notebook__.ipynb",
   "parameters": {},
   "start_time": "2021-08-24T19:03:26.711009",
   "version": "2.3.3"
  }
 },
 "nbformat": 4,
 "nbformat_minor": 5
}
